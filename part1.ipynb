{
 "cells": [
  {
   "cell_type": "code",
   "id": "initial_id",
   "metadata": {
    "collapsed": true,
    "ExecuteTime": {
     "end_time": "2024-12-13T18:00:19.791327Z",
     "start_time": "2024-12-13T18:00:19.786372Z"
    }
   },
   "source": [
    "import torch\n",
    "import torch.nn.functional as F\n",
    "from torch import nn\n",
    "\n",
    "class Conv2D(nn.Module):\n",
    "    def __init__(self, in_channels, out_channels, kernel_size=(3, 3), stride=1, padding=1):\n",
    "        super(Conv2D, self).__init__()\n",
    "        self.in_channels = in_channels\n",
    "        self.out_channels = out_channels\n",
    "        self.kernel_size = kernel_size\n",
    "        self.stride = stride\n",
    "        self.padding = padding\n",
    "\n",
    "        # Initialize kernel weights\n",
    "        self.kernel = nn.Parameter(torch.randn(\n",
    "            out_channels, in_channels, kernel_size[0], kernel_size[1]\n",
    "        ))\n",
    "\n",
    "    def forward(self, input_batch):\n",
    "        \"\"\"\n",
    "        Perform convolution operation using unfold for vectorized implementation.\n",
    "        \"\"\"\n",
    "        b, c, h, w = input_batch.size()\n",
    "        k_h, k_w = self.kernel_size\n",
    "\n",
    "        # Pad the input\n",
    "        input_padded = F.pad(\n",
    "            input_batch, (self.padding, self.padding, self.padding, self.padding)\n",
    "        )\n",
    "\n",
    "        # Unfold the input into patches\n",
    "        patches = F.unfold(\n",
    "            input_padded, kernel_size=self.kernel_size, stride=self.stride\n",
    "        )  # Shape: (b, c*k_h*k_w, p)\n",
    "\n",
    "        # Reshape the kernel for matrix multiplication\n",
    "        kernel_flat = self.kernel.view(self.out_channels, -1)  # Shape: (out_channels, c*k_h*k_w)\n",
    "\n",
    "        # Perform matrix multiplication and reshape the output\n",
    "        output = torch.matmul(kernel_flat, patches)  # Shape: (b, out_channels, p)\n",
    "        output = output.view(\n",
    "            b, self.out_channels, (h + 2 * self.padding - k_h) // self.stride + 1,\n",
    "            (w + 2 * self.padding - k_w) // self.stride + 1,\n",
    "        )\n",
    "        return output"
   ],
   "outputs": [],
   "execution_count": 4
  },
  {
   "metadata": {
    "ExecuteTime": {
     "end_time": "2024-12-13T18:00:21.878580Z",
     "start_time": "2024-12-13T18:00:21.870733Z"
    }
   },
   "cell_type": "code",
   "source": [
    "class Conv2DFunc(torch.autograd.Function):\n",
    "    @staticmethod\n",
    "    def forward(ctx, input_batch, kernel, stride=1, padding=1):\n",
    "        \"\"\"\n",
    "        Forward pass of convolution using unfold.\n",
    "        \"\"\"\n",
    "        ctx.save_for_backward(input_batch, kernel)\n",
    "        ctx.stride = stride\n",
    "        ctx.padding = padding\n",
    "\n",
    "        # Get input dimensions\n",
    "        b, c, h, w = input_batch.size()\n",
    "        k_h, k_w = kernel.size(2), kernel.size(3)\n",
    "\n",
    "        # Pad and unfold the input\n",
    "        input_padded = F.pad(input_batch, (padding, padding, padding, padding))\n",
    "        patches = F.unfold(input_padded, kernel_size=(k_h, k_w), stride=stride)  # U\n",
    "\n",
    "        # Reshape kernel and perform matrix multiplication\n",
    "        kernel_flat = kernel.view(kernel.size(0), -1)  # (C_out, C_in * K_H * K_W)\n",
    "        output = torch.matmul(kernel_flat, patches)  # (B, C_out, P)\n",
    "\n",
    "        # Reshape output to image format\n",
    "        h_out = (h + 2 * padding - k_h) // stride + 1\n",
    "        w_out = (w + 2 * padding - k_w) // stride + 1\n",
    "        output = output.view(b, kernel.size(0), h_out, w_out)\n",
    "\n",
    "        # Save unfolded patches for backward pass\n",
    "        ctx.save_for_backward(patches)\n",
    "\n",
    "        return output\n",
    "\n",
    "    @staticmethod\n",
    "    def backward(ctx, grad_output):\n",
    "        \"\"\"\n",
    "        Backward pass for convolution.\n",
    "        \"\"\"\n",
    "        input_batch, kernel = ctx.saved_tensors\n",
    "        stride = ctx.stride\n",
    "        padding = ctx.padding\n",
    "\n",
    "        b, c, h, w = input_batch.size()\n",
    "        k_h, k_w = kernel.size(2), kernel.size(3)\n",
    "\n",
    "        # Reshape grad_output for matrix multiplication\n",
    "        grad_output_reshaped = grad_output.view(grad_output.size(0), grad_output.size(1), -1)  # Y^\\triangledown\n",
    "\n",
    "        # Load saved unfolded patches\n",
    "        input_padded = F.pad(input_batch, (padding, padding, padding, padding))\n",
    "        patches = F.unfold(input_padded, kernel_size=(k_h, k_w), stride=stride)  # U\n",
    "\n",
    "        # Compute gradient w.r.t. kernel\n",
    "        grad_kernel = torch.matmul(grad_output_reshaped, patches.permute(0, 2, 1))  # (B, C_out, C_in * K_H * K_W)\n",
    "        grad_kernel = grad_kernel.sum(dim=0)  # Sum over batch\n",
    "        grad_kernel = grad_kernel.view(kernel.size())  # Reshape to kernel size\n",
    "\n",
    "        # Compute gradient w.r.t. input\n",
    "        kernel_flat = kernel.view(kernel.size(0), -1)  # (C_out, C_in * K_H * K_W)\n",
    "        grad_input_patches = torch.matmul(kernel_flat.t(), grad_output_reshaped)  # (B, C_in * K_H * K_W, P)\n",
    "        grad_input_patches = grad_input_patches.view(b, -1, patches.size(2))  # (B, C_in * K_H * K_W, P)\n",
    "\n",
    "        grad_input = F.fold(grad_input_patches, (h, w), kernel_size=(k_h, k_w), stride=stride, padding=padding)\n",
    "\n",
    "        return grad_input, grad_kernel, None, None\n"
   ],
   "id": "dab8c2c1085833a3",
   "outputs": [],
   "execution_count": 5
  },
  {
   "metadata": {
    "ExecuteTime": {
     "end_time": "2024-12-13T18:00:45.542089Z",
     "start_time": "2024-12-13T18:00:45.521795Z"
    }
   },
   "cell_type": "code",
   "source": [
    "input_batch = torch.randn(16, 3, 32, 32)  # Batch of 16, 3 channels, 32x32 resolution\n",
    "kernel = torch.randn(64, 3, 3, 3)  # 64 output channels, 3 input channels, 3x3 kernel\n",
    "stride = 1\n",
    "padding = 1\n",
    "\n",
    "# Using Conv2D Module\n",
    "conv = Conv2D(3, 64, kernel_size=(3, 3), stride=1, padding=1)\n",
    "output = conv(input_batch)\n",
    "print(\"Output shape (Conv2D):\", output.shape)\n",
    "\n",
    "Conv2DFunc.forward(input_batch, kernel, stride=stride, padding=padding)\n",
    "\n",
    "\n",
    "# Using Conv2DFunc\n",
    "output_func = Conv2DFunc.apply(input_batch, kernel, stride, padding)\n",
    "print(\"Output shape (Conv2DFunc):\", output_func.shape)\n"
   ],
   "id": "6accb308979a1fe9",
   "outputs": [
    {
     "name": "stdout",
     "output_type": "stream",
     "text": [
      "Output shape (Conv2D): torch.Size([16, 64, 32, 32])\n",
      "Output shape (Conv2DFunc): torch.Size([16, 64, 32, 32])\n"
     ]
    }
   ],
   "execution_count": 7
  },
  {
   "metadata": {
    "ExecuteTime": {
     "end_time": "2024-12-13T16:56:07.357303Z",
     "start_time": "2024-12-13T16:56:07.351261Z"
    }
   },
   "cell_type": "code",
   "source": [
    "def unfold_naive(input, kernel_size, stride, padding):\n",
    "    b, c, h, w = input.shape\n",
    "    k_h, k_w = kernel_size\n",
    "    s_h, s_w = stride\n",
    "\n",
    "    # Add padding\n",
    "    padded = torch.zeros((b, c, h + 2 * padding, w + 2 * padding))\n",
    "    padded[:, :, padding:-padding, padding:-padding] = input\n",
    "\n",
    "    # Compute output dimensions\n",
    "    h_out = (h + 2 * padding - k_h) // s_h + 1\n",
    "    w_out = (w + 2 * padding - k_w) // s_w + 1\n",
    "\n",
    "    # Extract patches\n",
    "    output = []\n",
    "    for i in range(0, h_out):\n",
    "        for j in range(0, w_out):\n",
    "            patch = padded[:, :, i*s_h:i*s_h+k_h, j*s_w:j*s_w+k_w]\n",
    "            output.append(patch.flatten(2))  # Flatten along spatial dimensions\n",
    "\n",
    "    return torch.stack(output, dim=-1).permute(0, 2, 1)  # Shape: (b, c*k_h*k_w, p)\n"
   ],
   "id": "88dd12dacba36005",
   "outputs": [],
   "execution_count": 2
  },
  {
   "metadata": {},
   "cell_type": "code",
   "outputs": [],
   "execution_count": null,
   "source": "",
   "id": "7d1b9cb93b58682e"
  }
 ],
 "metadata": {
  "kernelspec": {
   "display_name": "Python 3",
   "language": "python",
   "name": "python3"
  },
  "language_info": {
   "codemirror_mode": {
    "name": "ipython",
    "version": 2
   },
   "file_extension": ".py",
   "mimetype": "text/x-python",
   "name": "python",
   "nbconvert_exporter": "python",
   "pygments_lexer": "ipython2",
   "version": "2.7.6"
  }
 },
 "nbformat": 4,
 "nbformat_minor": 5
}
