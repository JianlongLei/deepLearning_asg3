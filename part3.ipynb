{
 "cells": [
  {
   "metadata": {
    "ExecuteTime": {
     "end_time": "2024-12-13T06:50:12.783958Z",
     "start_time": "2024-12-13T06:50:08.639345Z"
    }
   },
   "cell_type": "code",
   "source": [
    "import os\n",
    "from torchvision.datasets import ImageFolder\n",
    "from torchvision.transforms import Compose, Resize, ToTensor\n",
    "from torch.utils.data import DataLoader\n"
   ],
   "id": "70d1277a0ec73113",
   "outputs": [],
   "execution_count": 1
  },
  {
   "metadata": {},
   "cell_type": "code",
   "outputs": [],
   "execution_count": null,
   "source": "",
   "id": "c1ca60617bd15c3a"
  },
  {
   "cell_type": "code",
   "id": "initial_id",
   "metadata": {
    "collapsed": true,
    "ExecuteTime": {
     "end_time": "2024-12-12T20:04:12.542743Z",
     "start_time": "2024-12-12T20:04:12.172318Z"
    }
   },
   "source": [
    "\n",
    "# 数据路径（假设已解压到此目录）\n",
    "data_dir = \"./data/mnist-varres\"\n",
    "\n",
    "# 数据变换：保持 RGB 格式\n",
    "transform_32 = Compose([Resize((32, 32)), ToTensor()])  # 输入保持 RGB\n",
    "transform_48 = Compose([Resize((48, 48)), ToTensor()])\n",
    "transform_64 = Compose([Resize((64, 64)), ToTensor()])\n",
    "\n",
    "# 加载不同分辨率的数据\n",
    "dataset_32 = ImageFolder(root=data_dir, transform=transform_32)\n",
    "dataset_48 = ImageFolder(root=data_dir, transform=transform_48)\n",
    "dataset_64 = ImageFolder(root=data_dir, transform=transform_64)\n",
    "\n",
    "# 数据加载器\n",
    "batch_size = 16\n",
    "dataloader_32 = DataLoader(dataset_32, batch_size=batch_size, shuffle=True)\n",
    "dataloader_48 = DataLoader(dataset_48, batch_size=batch_size, shuffle=True)\n",
    "dataloader_64 = DataLoader(dataset_64, batch_size=batch_size, shuffle=True)\n",
    "\n",
    "# 合并所有分辨率的数据加载器\n",
    "dataloaders = [dataloader_32, dataloader_48, dataloader_64]\n"
   ],
   "outputs": [],
   "execution_count": 9
  },
  {
   "metadata": {
    "ExecuteTime": {
     "end_time": "2024-12-12T20:04:15.126797Z",
     "start_time": "2024-12-12T20:04:15.122205Z"
    }
   },
   "cell_type": "code",
   "source": [
    "import torch\n",
    "import torch.nn as nn\n",
    "import torch.nn.functional as F\n",
    "\n",
    "class VariableResolutionCNN(nn.Module):\n",
    "    def __init__(self, output_channels=64):\n",
    "        super(VariableResolutionCNN, self).__init__()\n",
    "        self.conv1 = nn.Conv2d(3, 16, kernel_size=3, stride=1, padding=1)  # 输入通道数改为 3\n",
    "        self.conv2 = nn.Conv2d(16, 32, kernel_size=3, stride=1, padding=1)\n",
    "        self.conv3 = nn.Conv2d(32, output_channels, kernel_size=3, stride=1, padding=1)\n",
    "        self.pool = nn.MaxPool2d(kernel_size=2, stride=2)\n",
    "        self.global_pool = nn.AdaptiveMaxPool2d((1, 1))  # 全局最大池化\n",
    "        self.fc = nn.Linear(output_channels, 10)  # 输出类别数为 10\n",
    "\n",
    "    def forward(self, x):\n",
    "        x = self.pool(F.relu(self.conv1(x)))\n",
    "        x = self.pool(F.relu(self.conv2(x)))\n",
    "        x = self.pool(F.relu(self.conv3(x)))\n",
    "        x = self.global_pool(x)  # 输出尺寸固定为 (batch_size, channels, 1, 1)\n",
    "        x = x.view(x.size(0), -1)  # 展平为 (batch_size, channels)\n",
    "        x = self.fc(x)\n",
    "        return x\n"
   ],
   "id": "6aa1a3045596ed94",
   "outputs": [],
   "execution_count": 10
  },
  {
   "metadata": {
    "ExecuteTime": {
     "end_time": "2024-12-12T20:04:17.416285Z",
     "start_time": "2024-12-12T20:04:17.411949Z"
    }
   },
   "cell_type": "code",
   "source": [
    "# 训练函数\n",
    "def train_variable_resolution(model, dataloaders, optimizer, criterion, device, epochs=10):\n",
    "    model.to(device)\n",
    "    for epoch in range(epochs):\n",
    "        model.train()\n",
    "        total_loss = 0\n",
    "        correct = 0\n",
    "        total = 0\n",
    "\n",
    "        for dataloader in dataloaders:  # 遍历每个分辨率的数据集\n",
    "            for images, labels in dataloader:\n",
    "                images, labels = images.to(device), labels.to(device)\n",
    "\n",
    "                # 前向传播\n",
    "                outputs = model(images)\n",
    "                loss = criterion(outputs, labels)\n",
    "\n",
    "                # 反向传播和优化\n",
    "                optimizer.zero_grad()\n",
    "                loss.backward()\n",
    "                optimizer.step()\n",
    "\n",
    "                # 统计损失和准确率\n",
    "                total_loss += loss.item()\n",
    "                _, predicted = torch.max(outputs, 1)\n",
    "                correct += (predicted == labels).sum().item()\n",
    "                total += labels.size(0)\n",
    "\n",
    "        accuracy = 100 * correct / total\n",
    "        print(f\"Epoch {epoch+1}/{epochs}, Loss: {total_loss:.4f}, Accuracy: {accuracy:.2f}%\")\n"
   ],
   "id": "4b8a8c48cdd1773f",
   "outputs": [],
   "execution_count": 11
  },
  {
   "metadata": {
    "ExecuteTime": {
     "end_time": "2024-12-12T20:04:20.461722Z",
     "start_time": "2024-12-12T20:04:20.458529Z"
    }
   },
   "cell_type": "code",
   "source": [
    "# 测试函数\n",
    "def test_variable_resolution(model, dataloaders, criterion, device):\n",
    "    model.eval()\n",
    "    total_loss = 0\n",
    "    correct = 0\n",
    "    total = 0\n",
    "\n",
    "    with torch.no_grad():\n",
    "        for dataloader in dataloaders:\n",
    "            for images, labels in dataloader:\n",
    "                images, labels = images.to(device), labels.to(device)\n",
    "\n",
    "                # 前向传播\n",
    "                outputs = model(images)\n",
    "                loss = criterion(outputs, labels)\n",
    "\n",
    "                total_loss += loss.item()\n",
    "                _, predicted = torch.max(outputs, 1)\n",
    "                correct += (predicted == labels).sum().item()\n",
    "                total += labels.size(0)\n",
    "\n",
    "    accuracy = 100 * correct / total\n",
    "    print(f\"Test Loss: {total_loss:.4f}, Test Accuracy: {accuracy:.2f}%\")\n"
   ],
   "id": "33b065ea119b2305",
   "outputs": [],
   "execution_count": 12
  },
  {
   "metadata": {
    "ExecuteTime": {
     "end_time": "2024-12-12T20:32:05.334640Z",
     "start_time": "2024-12-12T20:04:22.666293Z"
    }
   },
   "cell_type": "code",
   "source": [
    "# 初始化模型、优化器和损失函数\n",
    "device = torch.device(\"cuda\" if torch.cuda.is_available() else \"cpu\")\n",
    "model = VariableResolutionCNN(output_channels=64)\n",
    "criterion = nn.CrossEntropyLoss()\n",
    "optimizer = torch.optim.Adam(model.parameters(), lr=0.001)\n",
    "\n",
    "# 训练模型\n",
    "train_variable_resolution(model, dataloaders, optimizer, criterion, device, epochs=10)\n",
    "\n",
    "# 测试模型\n",
    "test_variable_resolution(model, dataloaders, criterion, device)\n"
   ],
   "id": "aaf36a7ed2b43f72",
   "outputs": [
    {
     "name": "stdout",
     "output_type": "stream",
     "text": [
      "Epoch 1/10, Loss: 5437.2775, Accuracy: 85.70%\n",
      "Epoch 2/10, Loss: 5390.9052, Accuracy: 85.71%\n",
      "Epoch 3/10, Loss: 5384.3496, Accuracy: 85.71%\n",
      "Epoch 4/10, Loss: 5381.5310, Accuracy: 85.71%\n",
      "Epoch 5/10, Loss: 5379.4571, Accuracy: 85.71%\n",
      "Epoch 6/10, Loss: 5380.2745, Accuracy: 85.71%\n",
      "Epoch 7/10, Loss: 5379.3883, Accuracy: 85.71%\n",
      "Epoch 8/10, Loss: 5377.4326, Accuracy: 85.71%\n",
      "Epoch 9/10, Loss: 5375.9705, Accuracy: 85.71%\n",
      "Epoch 10/10, Loss: 5374.8203, Accuracy: 85.71%\n",
      "Test Loss: 5372.6744, Test Accuracy: 85.71%\n"
     ]
    }
   ],
   "execution_count": 13
  }
 ],
 "metadata": {
  "kernelspec": {
   "display_name": "Python 3",
   "language": "python",
   "name": "python3"
  },
  "language_info": {
   "codemirror_mode": {
    "name": "ipython",
    "version": 2
   },
   "file_extension": ".py",
   "mimetype": "text/x-python",
   "name": "python",
   "nbconvert_exporter": "python",
   "pygments_lexer": "ipython2",
   "version": "2.7.6"
  }
 },
 "nbformat": 4,
 "nbformat_minor": 5
}
